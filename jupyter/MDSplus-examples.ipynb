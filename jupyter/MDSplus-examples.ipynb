{
 "cells": [
  {
   "cell_type": "code",
   "execution_count": 1,
   "metadata": {},
   "outputs": [
    {
     "name": "stdout",
     "output_type": "stream",
     "text": [
      "\n",
      "  Command: SET TREE\n",
      "  Purpose: Open an MDSplus tree.\n",
      "  Format: SET TREE tree-name[,subtree1[,subtree2,]] [/SHOT=shot-number] [/READONLY]\n",
      "  Description:\n",
      "  The SET TREE command is used to open an MDSplus tree. If subtree names are\n",
      "  included in the tree-name parameter then only those trees will be opened if they\n",
      "  are available. The /SHOT qualifier can be used to specify a particular shot\n",
      "  number to open. The shot number can be a TDI expression. If omitted, the\n",
      "  \"model\" tree or shot -1 is opened. If the /READONLY qualifier is included then\n",
      "  the tree is opened in a readonly mode and no changes can be made to the nodes\n",
      "  or their data.\n",
      "\n",
      "\n"
     ]
    }
   ],
   "source": [
    "%%tcl\n",
    "help set tree"
   ]
  },
  {
   "cell_type": "code",
   "execution_count": 2,
   "metadata": {},
   "outputs": [
    {
     "name": "stdout",
     "output_type": "stream",
     "text": [
      "\n",
      "\\MAIN::TOP\n",
      "\n",
      " :MEMBER       :NUMERIC      :SIGNAL       :TEXT        \n",
      "\n",
      "  CHILD         SUBTREE     \n",
      "\n",
      "Total of 6 nodes.\n",
      "\n",
      "000  MAIN          shot: -1 [\\MAIN::TOP]   \n",
      "\n",
      "\n",
      "\n",
      "Tag listing for top\n",
      "\n",
      "\\MAIN::TOP\n",
      "\\SUBTREE::TOP\n",
      "Total of 2 tags\n",
      "\n"
     ]
    }
   ],
   "source": [
    "%%tcl\n",
    "env main_path=/usr/local/mdsplus/trees\n",
    "env subtree_path=/usr/local/mdsplus/trees/subtree\n",
    "set tree main\n",
    "dir\n",
    "show db\n",
    "dir/tag top"
   ]
  },
  {
   "cell_type": "code",
   "execution_count": 3,
   "metadata": {},
   "outputs": [
    {
     "name": "stdout",
     "output_type": "stream",
     "text": [
      "42\n",
      "53\n",
      "100\n"
     ]
    },
    {
     "data": {
      "text/plain": [
       "100"
      ]
     },
     "execution_count": 3,
     "metadata": {},
     "output_type": "execute_result"
    }
   ],
   "source": [
    "%tdi 42\n",
    "%tdi _a=53\n",
    "%tdi public _a=100\n",
    "Data.getTdiVar(\"_a\")"
   ]
  },
  {
   "cell_type": "code",
   "execution_count": 4,
   "metadata": {},
   "outputs": [
    {
     "name": "stdout",
     "output_type": "stream",
     "text": [
      "142\n"
     ]
    }
   ],
   "source": [
    "%%tdi\n",
    "public fun myfun(_arg1) {\n",
    "    return(_arg1+100);\n",
    "};\n",
    "myfun(42)"
   ]
  },
  {
   "cell_type": "code",
   "execution_count": 5,
   "metadata": {},
   "outputs": [
    {
     "data": {
      "text/plain": [
       "53"
      ]
     },
     "execution_count": 5,
     "metadata": {},
     "output_type": "execute_result"
    }
   ],
   "source": [
    "Data.execute('_a')"
   ]
  },
  {
   "cell_type": "code",
   "execution_count": 6,
   "metadata": {},
   "outputs": [
    {
     "data": {
      "text/plain": [
       "53"
      ]
     },
     "execution_count": 6,
     "metadata": {},
     "output_type": "execute_result"
    },
    {
     "data": {
      "text/plain": [
       "42"
      ]
     },
     "execution_count": 6,
     "metadata": {},
     "output_type": "execute_result"
    }
   ],
   "source": [
    "Data.execute('_a')\n",
    "Data.execute('42')"
   ]
  },
  {
   "cell_type": "code",
   "execution_count": 12,
   "metadata": {},
   "outputs": [
    {
     "data": {
      "image/png": "[encoded data removed]",
      "text/plain": [
       "<matplotlib.figure.Figure at 0x7fa9c7e016d0>"
      ]
     },
     "metadata": {},
     "output_type": "display_data"
    }
   ],
   "source": [
    "%matplotlib inline\n",
    "dummy=plt.plot(Data.execute('sind(1:1000)'))\n",
    "dummy=plt.xlabel('time (s)')\n",
    "dummy=plt.ylabel('voltage (mV)')\n",
    "dummy=plt.title('About as simple as it gets, folks')\n",
    "plt.grid(True)\n",
    "plt.savefig(\"test.png\")\n",
    "plt.show()\n"
   ]
  },
  {
   "cell_type": "code",
   "execution_count": null,
   "metadata": {
    "collapsed": true
   },
   "outputs": [],
   "source": []
  }
 ],
 "metadata": {
  "kernelspec": {
   "display_name": "Python 2",
   "language": "python",
   "name": "python2"
  },
  "language_info": {
   "codemirror_mode": {
    "name": "ipython",
    "version": 2
   },
   "file_extension": ".py",
   "mimetype": "text/x-python",
   "name": "python",
   "nbconvert_exporter": "python",
   "pygments_lexer": "ipython2",
   "version": "2.7.12"
  }
 },
 "nbformat": 4,
 "nbformat_minor": 2
}
